{
 "cells": [
  {
   "cell_type": "markdown",
   "id": "f0eb070d",
   "metadata": {},
   "source": [
    "# Dictionary"
   ]
  },
  {
   "cell_type": "markdown",
   "id": "41eaeaaf",
   "metadata": {
    "jp-MarkdownHeadingCollapsed": true,
    "tags": []
   },
   "source": [
    "## Bir Mesile\n",
    "\n",
    "Melum bir konkért [heripni](https://upload.wikimedia.org/wikipedia/commons/0/0c/UEY_ULY_Elipbesi_Kichik.jpg?1641220049679) öz ichige alghan uyghurche sözni qandaq tépish?\n",
    "\n",
    "Bu mesilini yeshish üchün aldi bilen bu mesilini töwendiki kichik tarmaq mesilige parchilaymiz:\n",
    "* tarmaq masile 1: herpler we alaqidar sözlerni qandaq baghlash kirek ?\n",
    "* tarmaq mesile 2: qandaq qilip belgilengen bir herip arqiliq alaqidar sözni tapimiz ?"
   ]
  },
  {
   "cell_type": "markdown",
   "id": "2bb1b4e7",
   "metadata": {},
   "source": [
    "## Hel qilish charisi: bir \"Dictionary\" qurush\n",
    "\n",
    "\"Dictionary\" ning sanliq melumat qurulmisi ikki sanliq qimmet toplimini baghlashqa ishlitilidu. bir sanliq qimmet toplimi bolsa körsetküch(**keys** dep atilidu), yene bir sanliq qimmet toplimi bolsa mas haldiki qimmettur(**values** dep atilidu). ikkisining baghlinishi bolsa **key:value jüpi** bilen ipadilinidu, her bir **key** arqiliq mas haldiki **value** ge erishkili bolidu. bu seweptin yuqiridiki mesilini **dictionary** arqiliq yeshkili bolidu.\n",
    "Izahat: \"Jüp\" bu materyalda **Pair** ning ornigha ishlitilgen.\n",
    "\n",
    "![](dictionary_concept.png)\n",
    "\n",
    "### `{}` arqiliq dictionary qurush\n",
    "\n",
    "Tarmaq mesile 1 ni yeshish üchün, bir **dictionary** qurush arqiliq uyghurche herpler bilen mas haldiki uyghurche sözlerni bir birige baghlighli bolidu, uyghurche herpler we uyghurche sözler bolsa bu **dictionary** diki **key : value** jüpliridur."
   ]
  },
  {
   "cell_type": "code",
   "execution_count": 41,
   "id": "70725882",
   "metadata": {},
   "outputs": [
    {
     "name": "stdout",
     "output_type": "stream",
     "text": [
      "<class 'dict'> {'p': 'paqa', 'b': 'béliq', 'e': 'eynek'}\n"
     ]
    }
   ],
   "source": [
    "# Tarmaq mesile 1 ni yeshish.\n",
    "# Büdür tirnaq {} ning ichige pesh arqiliq ayrilghan \"key :value\" jüpi toplimini yazimiz.\n",
    "Uyghur_letters = {'p':'paqa', 'b':'béliq', 'e':'eynek'}\n",
    "\n",
    "print(type(Uyghur_letters), Uyghur_letters)"
   ]
  },
  {
   "cell_type": "markdown",
   "id": "9c9feb3e",
   "metadata": {},
   "source": [
    "Tarmaq mesile 2 ni yeshish üchün, bir herpni **key** qilish arqiliq, shu heripke baghlinishliq sözni tapqili bolidu. "
   ]
  },
  {
   "cell_type": "code",
   "execution_count": 42,
   "id": "60e814d5",
   "metadata": {},
   "outputs": [
    {
     "name": "stdout",
     "output_type": "stream",
     "text": [
      "paqa\n"
     ]
    }
   ],
   "source": [
    "# tarmaq mesile 2 ni yeshish\n",
    "# 'p' heripige munasiwetlik bir sözni tepish üchün, peqet 'p' herpini \"Key\" süpitide ottura tirnaqning [] \n",
    "# ichige alsaqla bolidu.\n",
    "\n",
    "print(Uyghur_letters['p'])"
   ]
  },
  {
   "cell_type": "markdown",
   "id": "174c5f4d",
   "metadata": {},
   "source": [
    "### `dict()` arqiliq dictionary qurush\n",
    "\n",
    "Ikki maddiliq tertipler toplimini, `dict()` arqiliq **dictionary** gha aylandurghili bolidu. Herbir tertiptiki birinci madde bolsa **key**, ikkinci madde bolsa **value** süpitide ishlitilidu."
   ]
  },
  {
   "cell_type": "code",
   "execution_count": 43,
   "id": "ec2cd50c",
   "metadata": {},
   "outputs": [
    {
     "name": "stdout",
     "output_type": "stream",
     "text": [
      "{'p': 'paqa', 'b': 'béliq', 'e': 'eynek'}\n"
     ]
    }
   ],
   "source": [
    "#ikki maddiliq \"Tuple\" lardin terkip tapqan \"List\" arqiliq \"Dictionary\" qurush\n",
    "Uyghur_letters = [('p','paqa'),\n",
    "                  ('b','béliq'),\n",
    "                  ('e','eynek')]\n",
    "\n",
    "Uyghur_letters = dict(Uyghur_letters)\n",
    "\n",
    "print(Uyghur_letters)"
   ]
  },
  {
   "cell_type": "markdown",
   "id": "45dc7fe0",
   "metadata": {},
   "source": [
    "Ikki tertiptin bir **dictionary** qurush üchün, `dict()` we `zip()` mitodini bille ishletsek bolidu. Birinci tertip bolsa **dictionary** ning **keys** liri, ikkinci tertip bolsa **dictionary** ning **value** liri bolidu."
   ]
  },
  {
   "cell_type": "code",
   "execution_count": 44,
   "id": "985bb6e4",
   "metadata": {},
   "outputs": [
    {
     "name": "stdout",
     "output_type": "stream",
     "text": [
      "{'p': 'paqa', 'b': 'béliq', 'e': 'eynek'}\n"
     ]
    }
   ],
   "source": [
    "#ikki tane \"list\" arqiliq dictionary qurush\n",
    "keys = ['p', 'b', 'e']\n",
    "values = ['paqa', 'béliq', 'eynek']\n",
    "\n",
    "Uyghur_letters = dict(zip(keys, values))\n",
    "\n",
    "print(Uyghur_letters)"
   ]
  },
  {
   "cell_type": "markdown",
   "id": "3b498ff8",
   "metadata": {},
   "source": [
    "## Dictionary gha erishish\n",
    "\n",
    "### Bir maddining qimmitini tepish\n",
    "\n",
    "Körsetküch numur tertipliri bilen **dictionary** ge erishkili bolmaydu, eksiche, yuqirda körsitilgini boyche, **keys** larni körsetküchi ornida ishlitip munasiwetlik qimmetlirige erishkili bolidu."
   ]
  },
  {
   "cell_type": "code",
   "execution_count": 66,
   "id": "160dfa54",
   "metadata": {},
   "outputs": [
    {
     "name": "stdout",
     "output_type": "stream",
     "text": [
      "béliq\n"
     ]
    }
   ],
   "source": [
    "Uyghur_letters = {'p':'paqa', 'b':'béliq', 'e':'eynek'}\n",
    "\n",
    "# Ottuar tirnaq [] ichige \"dictionary\" ning achquq (key) lirini qoyush arqiliq,\"dictionary\" ning \n",
    "# qimmet(value) lirige erisheleymiz.\n",
    "print(Uyghur_letters['b'])"
   ]
  },
  {
   "cell_type": "markdown",
   "id": "10685967",
   "metadata": {},
   "source": [
    "Eger \"dictionary\" da bolmighan bir \"key\" ni ishletkende, `KeyError` chiqidu."
   ]
  },
  {
   "cell_type": "code",
   "execution_count": 67,
   "id": "96e25ff9",
   "metadata": {},
   "outputs": [
    {
     "ename": "KeyError",
     "evalue": "'ö'",
     "output_type": "error",
     "traceback": [
      "\u001b[0;31m---------------------------------------------------------------------------\u001b[0m",
      "\u001b[0;31mKeyError\u001b[0m                                  Traceback (most recent call last)",
      "\u001b[0;32m<ipython-input-67-3fc3220f8ae5>\u001b[0m in \u001b[0;36m<module>\u001b[0;34m\u001b[0m\n\u001b[1;32m      2\u001b[0m \u001b[0;34m\u001b[0m\u001b[0m\n\u001b[1;32m      3\u001b[0m \u001b[0;31m# Mewjut bolmighan \"key\" ni ishlitish\u001b[0m\u001b[0;34m\u001b[0m\u001b[0;34m\u001b[0m\u001b[0;34m\u001b[0m\u001b[0m\n\u001b[0;32m----> 4\u001b[0;31m \u001b[0mprint\u001b[0m\u001b[0;34m(\u001b[0m\u001b[0mUyghur_letters\u001b[0m\u001b[0;34m[\u001b[0m\u001b[0;34m'ö'\u001b[0m\u001b[0;34m]\u001b[0m\u001b[0;34m)\u001b[0m\u001b[0;34m\u001b[0m\u001b[0;34m\u001b[0m\u001b[0m\n\u001b[0m",
      "\u001b[0;31mKeyError\u001b[0m: 'ö'"
     ]
    }
   ],
   "source": [
    "Uyghur_letters = {'p':'paqa', 'b':'béliq', 'e':'eynek'}\n",
    "\n",
    "# Mewjut bolmighan \"key\" ni ishlitish\n",
    "print(Uyghur_letters['ö'])"
   ]
  },
  {
   "cell_type": "markdown",
   "id": "70c09e45",
   "metadata": {},
   "source": [
    "Bundaq `KeyError`lardin saqlinish üchün get() usulini ishletsingiz bulidu. eger kirgüzülgen \"key\", \"Dictionary\" da bolsa, o \"key\" ge munasiwetlik qimmetni chiqirip beridu, eksiche, `None` chiqiridu. bu seweptin, get() usulu hergiz `KeyError` keltürüp chiqarmaydu."
   ]
  },
  {
   "cell_type": "code",
   "execution_count": 47,
   "id": "a1b48503",
   "metadata": {},
   "outputs": [
    {
     "name": "stdout",
     "output_type": "stream",
     "text": [
      "paqa\n"
     ]
    }
   ],
   "source": [
    "# mewjut \"key\" larning qimmitige erishish.\n",
    "print(Uyghur_letters.get('p'))"
   ]
  },
  {
   "cell_type": "code",
   "execution_count": 48,
   "id": "58befc22",
   "metadata": {},
   "outputs": [
    {
     "name": "stdout",
     "output_type": "stream",
     "text": [
      "None\n"
     ]
    }
   ],
   "source": [
    "# mewjut bolmighan \"key\" larinig aldin belgilengen qimmitige erishish.\n",
    "print(Uyghur_letters.get('ö'))"
   ]
  },
  {
   "cell_type": "markdown",
   "id": "9ab39b59",
   "metadata": {},
   "source": [
    "### Hemme \"Key\"  largha erishish\n",
    "\n",
    "`keys()` usuli \"dictionary\" diki hemme \"key\" larning yighindisini chiqirip beridu. Netije `dict_keys` tiki maddilargha körsetküch (index) arqiliq erishkili bolmaydu."
   ]
  },
  {
   "cell_type": "code",
   "execution_count": 68,
   "id": "73892cf5",
   "metadata": {},
   "outputs": [
    {
     "name": "stdout",
     "output_type": "stream",
     "text": [
      "dict_keys(['p', 'b', 'e'])\n"
     ]
    }
   ],
   "source": [
    "Uyghur_letters = {'p':'paqa', 'b':'béliq', 'e':'eynek'}\n",
    "\n",
    "all_keys = Uyghur_letters.keys()\n",
    "\n",
    "print(all_keys)"
   ]
  },
  {
   "cell_type": "code",
   "execution_count": 69,
   "id": "e700f78c",
   "metadata": {},
   "outputs": [
    {
     "ename": "TypeError",
     "evalue": "'dict_keys' object does not support indexing",
     "output_type": "error",
     "traceback": [
      "\u001b[0;31m---------------------------------------------------------------------------\u001b[0m",
      "\u001b[0;31mTypeError\u001b[0m                                 Traceback (most recent call last)",
      "\u001b[0;32m<ipython-input-69-24d1f967b78a>\u001b[0m in \u001b[0;36m<module>\u001b[0;34m\u001b[0m\n\u001b[1;32m      1\u001b[0m \u001b[0;31m# netije `dict_keys` tiki maddilargha körsetküch (index) arqiliq erishkili bolmaydu\u001b[0m\u001b[0;34m\u001b[0m\u001b[0;34m\u001b[0m\u001b[0;34m\u001b[0m\u001b[0m\n\u001b[0;32m----> 2\u001b[0;31m \u001b[0mall_keys\u001b[0m\u001b[0;34m[\u001b[0m\u001b[0;36m0\u001b[0m\u001b[0;34m]\u001b[0m\u001b[0;34m\u001b[0m\u001b[0;34m\u001b[0m\u001b[0m\n\u001b[0m",
      "\u001b[0;31mTypeError\u001b[0m: 'dict_keys' object does not support indexing"
     ]
    }
   ],
   "source": [
    "# netije `dict_keys` tiki maddilargha körsetküch (index) arqiliq erishkili bolmaydu\n",
    "all_keys[0]"
   ]
  },
  {
   "cell_type": "code",
   "execution_count": 70,
   "id": "382cf77b",
   "metadata": {},
   "outputs": [
    {
     "name": "stdout",
     "output_type": "stream",
     "text": [
      "['p', 'b', 'e']\n",
      "p\n"
     ]
    }
   ],
   "source": [
    "# \"dict_keys\" ni \"list\" ke aylandurush.\n",
    "keys_list = list(all_keys)\n",
    "print(keys_list)\n",
    "print(keys_list[0])"
   ]
  },
  {
   "cell_type": "markdown",
   "id": "92b92bf2",
   "metadata": {},
   "source": [
    "### Hhemme \"value\" largha erishish\n",
    "`values()` usuli \"dictionary\" diki hemme \"value\" larning yighindisini chiqirip beridu. Netije `dict_values` tiki maddilargha körsetküch (index) arqiliq erishkili bolmaydu."
   ]
  },
  {
   "cell_type": "code",
   "execution_count": 72,
   "id": "3b256f19",
   "metadata": {},
   "outputs": [
    {
     "name": "stdout",
     "output_type": "stream",
     "text": [
      "dict_values(['paqa', 'béliq', 'eynek'])\n"
     ]
    }
   ],
   "source": [
    "Uyghur_letters = {'p':'paqa', 'b':'béliq', 'e':'eynek'}\n",
    "\n",
    "print(Uyghur_letters.values())"
   ]
  },
  {
   "cell_type": "markdown",
   "id": "5cf5bef0",
   "metadata": {},
   "source": [
    "### Hemme maddilarghe erishish\n",
    "\n",
    "`items()` usuli \"dictionary\" diki hemme \"key:value\" jüplirining yighindisini chiqirip beridu. Netije `dict_items` tiki maddilargha körsetküch (index) arqiliq erishkili bolmaydu."
   ]
  },
  {
   "cell_type": "code",
   "execution_count": 73,
   "id": "dd10d8ce",
   "metadata": {},
   "outputs": [
    {
     "name": "stdout",
     "output_type": "stream",
     "text": [
      "dict_items([('p', 'paqa'), ('b', 'béliq'), ('e', 'eynek')])\n"
     ]
    }
   ],
   "source": [
    "Uyghur_letters = {'p':'paqa', 'b':'béliq', 'e':'eynek'}\n",
    "\n",
    "print(Uyghur_letters.items())"
   ]
  },
  {
   "cell_type": "markdown",
   "id": "c93eddd4",
   "metadata": {
    "tags": []
   },
   "source": [
    "## **Dictionary** ning alahidilikliri\n",
    "\n",
    "### **Key** lar has bolishi kirek\n",
    "\n",
    "Eger qaytilanghan \"key\" larni ishlitip dictionary qurghanda, \"key\" ning esli qimmiti qaytilanghan \"key\" ning qimmiti teripidin özgertiliwitilidu."
   ]
  },
  {
   "cell_type": "code",
   "execution_count": 74,
   "id": "b4517cca",
   "metadata": {},
   "outputs": [
    {
     "name": "stdout",
     "output_type": "stream",
     "text": [
      "{'p': 'paqa', 'b': 'béliq', 'e': 'béliq'}\n"
     ]
    }
   ],
   "source": [
    "#\"key\" ning esli qimmiti qaytilanghan \"key\" ning qimmiti teripidin özgertiliwitilidu.\n",
    "Uyghur_letters = {'p':'paqa', 'b':'béliq', 'e':'eynek', 'e': 'béliq'}\n",
    "\n",
    "print(Uyghur_letters)"
   ]
  },
  {
   "cell_type": "markdown",
   "id": "8d689935",
   "metadata": {
    "tags": []
   },
   "source": [
    "### \"key : value\" jüplirining sanliq melumat tipining cheklimiliri\n",
    "\n",
    "\"Key\" lar herqandaq özgermes sanliq melumat tipi bolalaydu, \"value\" lar bolsa herqanda bir sanliq malumat tipi bolalaydu. mesilen \"key\" lar `integer` , `string`, yaki `tuple` bolalaydu, lekin `list` bolalmaydu, chünki `list` lar bolsa özgirishchan."
   ]
  },
  {
   "cell_type": "code",
   "execution_count": 75,
   "id": "96448d4f",
   "metadata": {},
   "outputs": [
    {
     "name": "stdout",
     "output_type": "stream",
     "text": [
      "{1: True, 'Dilmurat': 44, (2, 2): [2, 2]}\n"
     ]
    }
   ],
   "source": [
    "# key\" lar \"integer\" , \"string\", yaki \"tuple\" bolalaydu\n",
    "# \"value\" lar bolsa herqanda bir sanliq malumat tipi bolalaydu\n",
    "a_dict = {1: True, 'Dilmurat': 44, (2,2): [2, 2]}\n",
    "print(a_dict)"
   ]
  },
  {
   "cell_type": "code",
   "execution_count": 76,
   "id": "306cedac",
   "metadata": {
    "tags": []
   },
   "outputs": [
    {
     "ename": "TypeError",
     "evalue": "unhashable type: 'list'",
     "output_type": "error",
     "traceback": [
      "\u001b[0;31m---------------------------------------------------------------------------\u001b[0m",
      "\u001b[0;31mTypeError\u001b[0m                                 Traceback (most recent call last)",
      "\u001b[0;32m<ipython-input-76-97daeb8add9e>\u001b[0m in \u001b[0;36m<module>\u001b[0;34m\u001b[0m\n\u001b[1;32m      1\u001b[0m \u001b[0;31m#\"key\" lar \"list\" bolalmaydu, chünki \"list\" lar bolsa özgirishchan.\u001b[0m\u001b[0;34m\u001b[0m\u001b[0;34m\u001b[0m\u001b[0;34m\u001b[0m\u001b[0m\n\u001b[0;32m----> 2\u001b[0;31m \u001b[0ma_dict\u001b[0m \u001b[0;34m=\u001b[0m \u001b[0;34m{\u001b[0m\u001b[0;34m[\u001b[0m\u001b[0;36m2\u001b[0m\u001b[0;34m,\u001b[0m\u001b[0;36m2\u001b[0m\u001b[0;34m]\u001b[0m\u001b[0;34m:\u001b[0m \u001b[0;34m(\u001b[0m\u001b[0;36m2\u001b[0m\u001b[0;34m,\u001b[0m \u001b[0;36m2\u001b[0m\u001b[0;34m)\u001b[0m\u001b[0;34m}\u001b[0m\u001b[0;34m\u001b[0m\u001b[0;34m\u001b[0m\u001b[0m\n\u001b[0m",
      "\u001b[0;31mTypeError\u001b[0m: unhashable type: 'list'"
     ]
    }
   ],
   "source": [
    "#\"key\" lar \"list\" bolalmaydu, chünki \"list\" lar bolsa özgirishchan.\n",
    "a_dict = {[2,2]: (2, 2)}\n"
   ]
  },
  {
   "cell_type": "markdown",
   "id": "98887ee8",
   "metadata": {
    "tags": []
   },
   "source": [
    "## \"Dictionary\" lar özgürüshchan bolidu\n",
    "\n",
    "\"Dictionariy\"lar özgürüshchan bolup, biz uni qurghandin kiyin ichidiki maddilarni almashturup, qoshup yaki eliweteleymiz.\n",
    "\n",
    "\n",
    "### \"Value\"ni özgertish\n",
    "\n",
    "\"Dictionary\" maddilirini yengilash bek asan, peqet \"key\" bilan maddilargha erishing we yengi \"value\"ni belgileng."
   ]
  },
  {
   "cell_type": "code",
   "execution_count": 77,
   "id": "941a4915",
   "metadata": {},
   "outputs": [
    {
     "name": "stdout",
     "output_type": "stream",
     "text": [
      "özgertishtin burun: {'p': 'paqa', 'b': 'béliq', 'e': 'eynek'}\n",
      "özgergendin keyin: {'p': 'paqa', 'b': 'batur', 'e': 'eynek'}\n"
     ]
    }
   ],
   "source": [
    "Uyghur_letters = {'p':'paqa', 'b':'béliq', 'e':'eynek'}\n",
    "print('özgertishtin burun:', Uyghur_letters)\n",
    "\n",
    "Uyghur_letters['b'] = 'batur'\n",
    "print(\"özgergendin keyin:\", Uyghur_letters)"
   ]
  },
  {
   "cell_type": "markdown",
   "id": "fa0aac05",
   "metadata": {
    "tags": []
   },
   "source": [
    "### Madda qoshush\n",
    "\n",
    "\"Dictionary\" gha bir yengi \"key\" we uning \"value\"ni qoshush:"
   ]
  },
  {
   "cell_type": "code",
   "execution_count": 78,
   "id": "3f5e7497",
   "metadata": {},
   "outputs": [
    {
     "name": "stdout",
     "output_type": "stream",
     "text": [
      "{}\n",
      "{'p': 'paqa'}\n",
      "{'p': 'paqa', 'b': 'béliq'}\n",
      "{'p': 'paqa', 'b': 'béliq', 'e': 'eynek'}\n"
     ]
    }
   ],
   "source": [
    "# quruq bir \"Dictionary\" yasang we uninggha \"key:value\" jüp ni qoshung\n",
    "\n",
    "Uyghur_letters = {}\n",
    "print(Uyghur_letters)\n",
    "\n",
    "Uyghur_letters['p'] = 'paqa'\n",
    "print(Uyghur_letters)\n",
    "\n",
    "Uyghur_letters['b'] = 'béliq'\n",
    "print(Uyghur_letters)\n",
    "\n",
    "Uyghur_letters['e'] = 'eynek'\n",
    "print(Uyghur_letters)"
   ]
  },
  {
   "cell_type": "markdown",
   "id": "abe09920",
   "metadata": {},
   "source": [
    "Siz bir \"Dictionary\"ning maddilirini yene bir \"Dictionary\" gha kirghuzeleysiz. Shuni unutmangki, tekrarlanghan \"key\"ning \"value\" lar mevjut \"value\" lar ornini alidu."
   ]
  },
  {
   "cell_type": "code",
   "execution_count": 79,
   "id": "08fcc14f",
   "metadata": {},
   "outputs": [
    {
     "name": "stdout",
     "output_type": "stream",
     "text": [
      "kirgüzgendin keyin: {'p': 'pesh', 'b': 'béliq', 'e': 'eynek', 'a': 'at', 'x': 'xoraz'}\n"
     ]
    }
   ],
   "source": [
    "Uyghur_letters = {'p': 'paqa', 'b': 'béliq', 'e': 'eynek'}\n",
    "new_letters = {'p': 'pesh', 'a': 'at', 'x': 'xoraz'}\n",
    "\n",
    "# \"new_letters\" ning maddilirini \"Uyghur_letters\" gha kirgüzüsh\n",
    "Uyghur_letters.update(new_letters)\n",
    "\n",
    "print('kirgüzgendin keyin:', Uyghur_letters)"
   ]
  },
  {
   "cell_type": "markdown",
   "id": "a7133a81",
   "metadata": {
    "tags": []
   },
   "source": [
    "### maddilarni chiqiriwetish\n",
    "`pop()` ni ishlitip \"key\"ni chiqiriweting we \"value\"ni qayturung:"
   ]
  },
  {
   "cell_type": "code",
   "execution_count": 80,
   "id": "9c21ea71",
   "metadata": {
    "tags": []
   },
   "outputs": [
    {
     "name": "stdout",
     "output_type": "stream",
     "text": [
      "chiqiriwetishtin burun: {'p': 'pesh', 'b': 'béliq', 'e': 'eynek', 'a': 'at', 'x': 'xoraz'}\n",
      "chiqiriwetilgen maddining 'value': xoraz\n",
      "chiqiriwetkendin keyin: {'p': 'pesh', 'b': 'béliq', 'e': 'eynek', 'a': 'at'}\n"
     ]
    }
   ],
   "source": [
    "Uyghur_letters = {'p': 'pesh', 'b': 'béliq', 'e': 'eynek', 'a': 'at', 'x': 'xoraz'}\n",
    "\n",
    "print(\"chiqiriwetishtin burun:\", Uyghur_letters)\n",
    "\n",
    "# \"pop()\" ni ishlitip \"key\"ni chiqiriweting we \"value\"ni qayturung\n",
    "print(\"chiqiriwetilgen maddining 'value':\", Uyghur_letters.pop('x'))\n",
    "print(\"chiqiriwetkendin keyin:\", Uyghur_letters)"
   ]
  },
  {
   "cell_type": "markdown",
   "id": "da1e75b1",
   "metadata": {},
   "source": [
    "\"del\" ni ishlitip \"value\"ni qayturmayla öchiriweting:"
   ]
  },
  {
   "cell_type": "code",
   "execution_count": 81,
   "id": "7cde6900",
   "metadata": {
    "tags": []
   },
   "outputs": [
    {
     "name": "stdout",
     "output_type": "stream",
     "text": [
      "öchiriwetishtin burun: {'p': 'pesh', 'b': 'béliq', 'e': 'eynek', 'a': 'at', 'x': 'xoraz'}\n",
      "öchiriwetkendin keyin: {'p': 'pesh', 'b': 'béliq', 'e': 'eynek', 'a': 'at'}\n"
     ]
    }
   ],
   "source": [
    "Uyghur_letters = {'p': 'pesh', 'b': 'béliq', 'e': 'eynek', 'a': 'at', 'x': 'xoraz'}\n",
    "\n",
    "print(\"öchiriwetishtin burun:\", Uyghur_letters)\n",
    "\n",
    "#\"del\" ni ishlitip \"value\"ni qayturmayla öchiriweting\n",
    "\n",
    "del Uyghur_letters['x']\n",
    "\n",
    "print(\"öchiriwetkendin keyin:\", Uyghur_letters)"
   ]
  },
  {
   "cell_type": "markdown",
   "id": "88b046b3",
   "metadata": {
    "tags": []
   },
   "source": [
    "### \"Aliasing\"(yene bir isim qoyush) we köchürüsh\n",
    "\n",
    "\"list\" qa oxshash \"dictionary\" mu özgürüshchan bolghachqa,\"Aliasing\"(yene bir isim qoyush)ni bilishimiz kerak. Ikki özgergüchi oxshash nersini ipadiligende birsining özgürüshi yene birsigimu tesir qilidu. Eger bir \"dictionary\" ni özgertip, esli nushisidin bir nusha saqlap qoymaqchi bolsaq `copy()`ni ishlitimiz.\n",
    "\n",
    "\n",
    "Aliasing:"
   ]
  },
  {
   "cell_type": "code",
   "execution_count": 88,
   "id": "9a3b1580",
   "metadata": {},
   "outputs": [
    {
     "name": "stdout",
     "output_type": "stream",
     "text": [
      "\"alias\": {'p': 'pesh', 'b': 'béliq'}\n",
      "\"alias\" we \"Uyghur_letters\" oxshash obeyktni körsitidu: True\n",
      "\"alias\"ni özgertishtin burun, Uyghur_letters: {'p': 'pesh', 'b': 'béliq'}\n",
      "\"alias\"ni özgertishdin keyin, Uyghur_letters: {'p': 'Paqa', 'b': 'béliq'}\n"
     ]
    }
   ],
   "source": [
    "Uyghur_letters = {'p': 'pesh', 'b': 'béliq'}\n",
    "\n",
    "# Aliasing \n",
    "alias = Uyghur_letters\n",
    "\n",
    "print('\"alias\":', alias)\n",
    "\n",
    "# \"alias\" we \"Uyghur_letters\" oxshash obeyktni körsitidu\n",
    "print('\"alias\" we \"Uyghur_letters\" oxshash obeyktni körsitidu:', alias is Uyghur_letters)\n",
    "\n",
    "print('\"alias\"ni özgertishtin burun, Uyghur_letters:', Uyghur_letters)\n",
    "\n",
    "# \"alias\" ni özgertish \"Uyghur_letters\" gha tesir körsetidu\n",
    "alias['p'] = 'Paqa'\n",
    "print('\"alias\"ni özgertishdin keyin, Uyghur_letters:', Uyghur_letters)"
   ]
  },
  {
   "cell_type": "markdown",
   "id": "7b595da4",
   "metadata": {},
   "source": [
    "Köchürüsh:"
   ]
  },
  {
   "cell_type": "code",
   "execution_count": 87,
   "id": "3ae4d8fb",
   "metadata": {},
   "outputs": [
    {
     "name": "stdout",
     "output_type": "stream",
     "text": [
      "\"copy\": {'p': 'pesh', 'b': 'béliq'}\n",
      "\"copy\" we \"Uyghur_letters\" oxshash obeyktni körsitidu: False\n",
      "\"copy\" ni özgertishtin burun, Uyghur_letters: {'p': 'pesh', 'b': 'béliq'}\n",
      "\"copy\" ni özgertkendin keyin, Uyghur_letters: {'p': 'pesh', 'b': 'béliq'}\n"
     ]
    }
   ],
   "source": [
    "Uyghur_letters = {'p': 'pesh', 'b': 'béliq'}\n",
    "\n",
    "# köchürüsh\n",
    "\n",
    "copy = Uyghur_letters.copy()\n",
    "print('\"copy\":', copy)\n",
    "\n",
    "#\"copy\" we \"Uyghur_letters\" ikkisi oxshash obeyktni körsetmeydu\n",
    "print('\"copy\" we \"Uyghur_letters\" oxshash obeyktni körsitidu:', copy is Uyghur_letters)\n",
    "print('\"copy\" ni özgertishtin burun, Uyghur_letters:', Uyghur_letters)\n",
    "   \n",
    "#\"copy\" ni özgertish \"Uyghur_letters\" gha tesir körsetmeydu\n",
    "copy['p'] = 'Paqa'\n",
    "print('\"copy\" ni özgertkendin keyin, Uyghur_letters:', Uyghur_letters)"
   ]
  },
  {
   "cell_type": "markdown",
   "id": "e38ad627",
   "metadata": {},
   "source": [
    "## Bashqa \"Dictionary\" meshghulatliri\n",
    "\n",
    "`in` we `not in` lar bilen, \"key\" yaki \"value\" ning \"dictionary\" ning ichide bar-yoqliqini tekshüreleymiz."
   ]
  },
  {
   "cell_type": "code",
   "execution_count": 84,
   "id": "980884de",
   "metadata": {},
   "outputs": [
    {
     "name": "stdout",
     "output_type": "stream",
     "text": [
      "p in Uyghur_letters: True\n",
      "p not in Uyghur_letters: False\n",
      "pesh in Uyghur_letters: True\n",
      "pesh not in Uyghur_letters: False\n"
     ]
    }
   ],
   "source": [
    "Uyghur_letters = {'p': 'pesh', 'b': 'béliq'}\n",
    "\n",
    "#\"key\" ning bar-yoqluquni tekshürüsh\n",
    "print('p in Uyghur_letters:', 'p' in Uyghur_letters)\n",
    "print('p not in Uyghur_letters:', 'p' not in Uyghur_letters)\n",
    "\n",
    "#\"value\" ning bar-yoqluquni tekshürüsh\n",
    "print('pesh in Uyghur_letters:', 'pesh' in Uyghur_letters.values())\n",
    "print('pesh not in Uyghur_letters:', 'pesh' not in Uyghur_letters.values())"
   ]
  },
  {
   "cell_type": "markdown",
   "id": "2890e3c3",
   "metadata": {},
   "source": [
    "\"len()\" bilen \"dictionary\" ning uzunliqini tekshürüng:"
   ]
  },
  {
   "cell_type": "code",
   "execution_count": 85,
   "id": "77914e9b",
   "metadata": {},
   "outputs": [
    {
     "name": "stdout",
     "output_type": "stream",
     "text": [
      "lenght of Uyghur_letters: 2\n"
     ]
    }
   ],
   "source": [
    "Uyghur_letters = {'p': 'pesh', 'b': 'béliq'}\n",
    "\n",
    "print(\"lenght of Uyghur_letters:\", len(Uyghur_letters))"
   ]
  },
  {
   "cell_type": "markdown",
   "id": "e155108c",
   "metadata": {},
   "source": [
    "## Exercises\n",
    "\n",
    "1. Uyghur 32 heripi we uninggha munasiwetlik sözlerning \"dictionary\" tuzung.\n",
    "\n",
    "2. *Hemme adem tughulushidinla erkin, izzet-hörmet we hoquqta babbarawer bolup tughulghan. Ular eqilge we wijdan'gha ige hemde bir-birige qërindashliq munasiwitige xas roh bilen muamile qilishi kërek.*\n",
    "\n",
    "    * Yuquridiki tekisttiki eng köp körülgen söz qaysi (heriplerning chong-kichik yezilishi nezerdin saqit qilinidu)? \n",
    "    * U soz nechche qetim körulidu? Yuquridiki tekisttiki eng uzun söz qaysi? U sözde nechche herip bar?\n",
    " \n",
    "3. Töwendiki \"dictionary\" larni öz ara qoshup, yengi bir \"dictionary\" hasil qiling.\n",
    "    ~~~\n",
    "    dic1={1:10, 2:20}\n",
    "    dic2={3:30, 4:40}\n",
    "    dic3={5:50, 6:60}\n",
    "    Expected Result : {1: 10, 2: 20, 3: 30, 4: 40, 5: 50, 6: 60}\n",
    "    ~~~   \n",
    "\n",
    "4. Berilgen melum bir \"key\" ning bir lughette mewjut yaki emeslikini tekshürüng.\n",
    "\n",
    "5. 1 din 5 kiche bolghan sanlar \"key\", u sanlarning kuwadrati \"value\" bolghan bir \"dictionary\" tüzüng we uni besip chiqiring.\n",
    "    ```\n",
    "    input: range(1, 6)\n",
    "    Expected Output : {1: 1, 2: 4, 3: 9, 4: 16, 5: 25}\n",
    "    ```\n",
    "    \n",
    "6. \"dictionary\" diki barliq \"value\" larni oz ara kopeyting.\n",
    "    ~~~\n",
    "    my_dict = {'data1':2,'data2':-3,'data3':100}\n",
    "    Expected result: -600\n",
    "    ~~~\n",
    "\n",
    "7.  Ikki \"list\" ni birleshturup bir \"dictionary\" gha aylandurung.\n",
    "    ~~~\n",
    "    keys = ['red', 'green', 'blue']\n",
    "    values = ['#FF0000','#008000', '#0000FF']\n",
    "    \n",
    "    Expected output: {'red': '#FF0000', 'green': '#008000', 'blue': '#0000FF'}\n",
    "    ~~~\n",
    "    \n",
    "8. Bir \"dictionary\" ni nusxiliwelip, andin eslidiki \"dictionary\" gha tesir yetküzmigen asasta, nusxilanghan lughettiki bir maddini özgerting.\n",
    "\n",
    "9. Berilgen \"dictionary\" diki bosh maddini chiqiriweting.\n",
    "    ~~~\n",
    "    Original Dictionary:\n",
    "    {'c1': 'Red', 'c2': 'Green', 'c3': None}\n",
    "    New Dictionary after dropping empty items:\n",
    "    {'c1': 'Red', 'c2': 'Green'}\n",
    "    ~~~"
   ]
  }
 ],
 "metadata": {
  "kernelspec": {
   "display_name": "Python 3",
   "language": "python",
   "name": "python3"
  },
  "language_info": {
   "codemirror_mode": {
    "name": "ipython",
    "version": 3
   },
   "file_extension": ".py",
   "mimetype": "text/x-python",
   "name": "python",
   "nbconvert_exporter": "python",
   "pygments_lexer": "ipython3",
   "version": "3.6.9"
  },
  "toc-showmarkdowntxt": true
 },
 "nbformat": 4,
 "nbformat_minor": 5
}
